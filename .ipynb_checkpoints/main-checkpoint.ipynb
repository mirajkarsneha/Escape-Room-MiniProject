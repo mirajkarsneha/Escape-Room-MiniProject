{
 "cells": [
  {
   "cell_type": "code",
   "execution_count": 1,
   "metadata": {
    "scrolled": true
   },
   "outputs": [
    {
     "name": "stdout",
     "output_type": "stream",
     "text": [
      "You wake up on a couch and find yourself in a strange house with no windows which you have never been to before. You don't remember why you are here and what had happened before. You feel some unknown danger is approaching and you must get out of the house, NOW!\n",
      "You are now in game room\n"
     ]
    },
    {
     "name": "stdin",
     "output_type": "stream",
     "text": [
      "What would you like to do? Type 'explore' or 'examine'? explore\n"
     ]
    },
    {
     "name": "stdout",
     "output_type": "stream",
     "text": [
      "You explore the room. This is game room. You find couch, piano, door a\n",
      "You are now in game room\n"
     ]
    },
    {
     "name": "stdin",
     "output_type": "stream",
     "text": [
      "What would you like to do? Type 'explore' or 'examine'? examine\n",
      "What would you like to examine? piano\n"
     ]
    },
    {
     "name": "stdout",
     "output_type": "stream",
     "text": [
      "You examine piano. You find key for door a.\n",
      "You are now in game room\n"
     ]
    },
    {
     "name": "stdin",
     "output_type": "stream",
     "text": [
      "What would you like to do? Type 'explore' or 'examine'? examine\n",
      "What would you like to examine? door a\n"
     ]
    },
    {
     "name": "stdout",
     "output_type": "stream",
     "text": [
      "You examine door a. You unlock it with a key you have.\n"
     ]
    },
    {
     "name": "stdin",
     "output_type": "stream",
     "text": [
      "Do you want to go to the next room? Ener 'yes' or 'no' yes\n"
     ]
    },
    {
     "name": "stdout",
     "output_type": "stream",
     "text": [
      "You are now in bed room1\n"
     ]
    },
    {
     "name": "stdin",
     "output_type": "stream",
     "text": [
      "What would you like to do? Type 'explore' or 'examine'? examine\n",
      "What would you like to examine? queen bed\n"
     ]
    },
    {
     "name": "stdout",
     "output_type": "stream",
     "text": [
      "You examine queen bed. You find key for door b.\n",
      "You are now in bed room1\n"
     ]
    },
    {
     "name": "stdin",
     "output_type": "stream",
     "text": [
      "What would you like to do? Type 'explore' or 'examine'? examine\n",
      "What would you like to examine? door b\n"
     ]
    },
    {
     "name": "stdout",
     "output_type": "stream",
     "text": [
      "You examine door b. You unlock it with a key you have.\n"
     ]
    },
    {
     "name": "stdin",
     "output_type": "stream",
     "text": [
      "Do you want to go to the next room? Ener 'yes' or 'no' yes\n"
     ]
    },
    {
     "name": "stdout",
     "output_type": "stream",
     "text": [
      "You are now in bed room2\n"
     ]
    },
    {
     "name": "stdin",
     "output_type": "stream",
     "text": [
      "What would you like to do? Type 'explore' or 'examine'? examine\n",
      "What would you like to examine? double bed\n"
     ]
    },
    {
     "name": "stdout",
     "output_type": "stream",
     "text": [
      "You examine double bed. You find key for door c.\n",
      "You are now in bed room2\n"
     ]
    },
    {
     "name": "stdin",
     "output_type": "stream",
     "text": [
      "What would you like to do? Type 'explore' or 'examine'? examine\n",
      "What would you like to examine? door c\n"
     ]
    },
    {
     "name": "stdout",
     "output_type": "stream",
     "text": [
      "The item you requested is not found in the current room.\n",
      "You are now in bed room2\n"
     ]
    },
    {
     "name": "stdin",
     "output_type": "stream",
     "text": [
      "What would you like to do? Type 'explore' or 'examine'? examine\n",
      "What would you like to examine? dresser\n"
     ]
    },
    {
     "name": "stdout",
     "output_type": "stream",
     "text": [
      "You examine dresser. You find key for door d.\n",
      "You are now in bed room2\n"
     ]
    },
    {
     "name": "stdin",
     "output_type": "stream",
     "text": [
      "What would you like to do? Type 'explore' or 'examine'? examine\n",
      "What would you like to examine? door b\n"
     ]
    },
    {
     "name": "stdout",
     "output_type": "stream",
     "text": [
      "You examine door b. You unlock it with a key you have.\n"
     ]
    },
    {
     "name": "stdin",
     "output_type": "stream",
     "text": [
      "Do you want to go to the next room? Ener 'yes' or 'no' yes\n"
     ]
    },
    {
     "name": "stdout",
     "output_type": "stream",
     "text": [
      "You are now in bed room1\n"
     ]
    },
    {
     "name": "stdin",
     "output_type": "stream",
     "text": [
      "What would you like to do? Type 'explore' or 'examine'? examine\n",
      "What would you like to examine? door c\n"
     ]
    },
    {
     "name": "stdout",
     "output_type": "stream",
     "text": [
      "You examine door c. You unlock it with a key you have.\n"
     ]
    },
    {
     "name": "stdin",
     "output_type": "stream",
     "text": [
      "Do you want to go to the next room? Ener 'yes' or 'no' yes\n"
     ]
    },
    {
     "name": "stdout",
     "output_type": "stream",
     "text": [
      "You are now in living room\n"
     ]
    },
    {
     "name": "stdin",
     "output_type": "stream",
     "text": [
      "What would you like to do? Type 'explore' or 'examine'? examine\n",
      "What would you like to examine? door d\n"
     ]
    },
    {
     "name": "stdout",
     "output_type": "stream",
     "text": [
      "You examine door d. You unlock it with a key you have.\n"
     ]
    },
    {
     "name": "stdin",
     "output_type": "stream",
     "text": [
      "Do you want to go to the next room? Ener 'yes' or 'no' yes\n"
     ]
    },
    {
     "name": "stdout",
     "output_type": "stream",
     "text": [
      "Congrats! You escaped the room!\n",
      "\n",
      "\n",
      "\n",
      "\n",
      "\n",
      "\n",
      "\n",
      "\n",
      "\n",
      "\n",
      "\n",
      "\n",
      "\n",
      "\n",
      "\n",
      "\n",
      "\n",
      "\n",
      "\n",
      "\n",
      "\n",
      "\n",
      "\n",
      "\n",
      "\n",
      "\n",
      "\n",
      "\n",
      "\n",
      "\n",
      "\n",
      "\n",
      "\n"
     ]
    }
   ],
   "source": [
    "# define rooms and items\n",
    "couch = {\n",
    "    \"name\": \"couch\",\n",
    "    \"type\": \"furniture\",\n",
    "}\n",
    "piano = {\n",
    "    \"name\": \"piano\",\n",
    "    \"type\": \"furniture\",\n",
    "}\n",
    "queen_bed = {\n",
    "    \"name\": \"queen bed\",\n",
    "    \"type\": \"furniture\",\n",
    "}\n",
    "double_bed = {\n",
    "    \"name\": \"double bed\",\n",
    "    \"type\": \"furniture\",\n",
    "}\n",
    "dresser = {\n",
    "    \"name\": \"dresser\",\n",
    "    \"type\": \"furniture\",\n",
    "}\n",
    "diningtable = {\n",
    "    \"name\": \"diningtable\",\n",
    "    \"type\": \"furniture\",\n",
    "}\n",
    "door_a = {\n",
    "    \"name\": \"door a\",\n",
    "    \"type\": \"door\",\n",
    "}\n",
    "door_b = {\n",
    "    \"name\": \"door b\",\n",
    "    \"type\": \"door\",\n",
    "}\n",
    "door_c = {\n",
    "    \"name\": \"door c\",\n",
    "    \"type\": \"door\",\n",
    "}\n",
    "door_d = {\n",
    "    \"name\": \"door d\",\n",
    "    \"type\": \"door\",\n",
    "}\n",
    "key_a = {\n",
    "    \"name\": \"key for door a\",\n",
    "    \"type\": \"key\",\n",
    "    \"target\": door_a,\n",
    "}\n",
    "key_b = {\n",
    "    \"name\": \"key for door b\",\n",
    "    \"type\": \"key\",\n",
    "    \"target\": door_b,\n",
    "}\n",
    "key_c = {\n",
    "    \"name\": \"key for door c\",\n",
    "    \"type\": \"key\",\n",
    "    \"target\": door_c,\n",
    "}\n",
    "key_d = {\n",
    "    \"name\": \"key for door d\",\n",
    "    \"type\": \"key\",\n",
    "    \"target\": door_d,\n",
    "}\n",
    "game_room = {\n",
    "    \"name\": \"game room\",\n",
    "    \"type\": \"room\",\n",
    "}\n",
    "bed_room1 = {\n",
    "    \"name\": \"bed room1\",\n",
    "    \"type\": \"room\",\n",
    "}\n",
    "bed_room2 = {\n",
    "    \"name\": \"bed room2\",\n",
    "    \"type\": \"room\",\n",
    "}\n",
    "living_room = {\n",
    "    \"name\": \"living room\",\n",
    "    \"type\": \"room\",\n",
    "}\n",
    "outside = {\n",
    "  \"name\": \"outside\"\n",
    "}\n",
    "\n",
    "all_rooms = [game_room, bed_room1, bed_room2, living_room, outside]\n",
    "\n",
    "all_doors = [door_a, door_b, door_c, door_d]\n",
    "\n",
    "# define which items/rooms are related\n",
    "\n",
    "object_relations = {\n",
    "    \"game room\": [couch, piano, door_a],\n",
    "    \"piano\": [key_a],\n",
    "    \"door a\": [game_room, bed_room1],\n",
    "    \"bed room1\": [queen_bed, door_a, door_b, door_c],\n",
    "    \"queen bed\": [key_b],\n",
    "    \"door b\": [bed_room1, bed_room2],\n",
    "    \"bed room2\": [dresser, double_bed, door_b],\n",
    "    \"double bed\":[key_c],\n",
    "    \"dresser\": [key_d],\n",
    "    \"door c\": [bed_room1, living_room],\n",
    "    \"living room\": [diningtable, door_c, door_d],\n",
    "    \"door d\": [living_room, outside],\n",
    "    \"outside\": [door_d]\n",
    "}\n",
    "# define game state. Do not directly change this dict.\n",
    "# Instead, when a new game starts, make a copy of this\n",
    "# dict and use the copy to store gameplay state. This\n",
    "# way you can replay the game multiple times.\n",
    "\n",
    "INIT_GAME_STATE = {\n",
    "    \"current_room\": game_room,\n",
    "    \"keys_collected\": [],\n",
    "    \"target_room\": outside\n",
    "}\n",
    "\n",
    "def linebreak():\n",
    "    \"\"\"\n",
    "    Print a line break\n",
    "    \"\"\"\n",
    "    print(\"\\n\\n\")\n",
    "\n",
    "def start_game():\n",
    "    \"\"\"\n",
    "    Start the game\n",
    "    \"\"\"\n",
    "    print(\"You wake up on a couch and find yourself in a strange house with no windows which you have never been to before. You don't remember why you are here and what had happened before. You feel some unknown danger is approaching and you must get out of the house, NOW!\")\n",
    "    play_room(game_state[\"current_room\"])\n",
    "\n",
    "def play_room(room):\n",
    "    \"\"\"\n",
    "    Play a room. First check if the room being played is the target room.\n",
    "    If it is, the game will end with success. Otherwise, let player either\n",
    "    explore (list all items in this room) or examine an item found here.\n",
    "    \"\"\"\n",
    "    game_state[\"current_room\"] = room\n",
    "    if(game_state[\"current_room\"] == game_state[\"target_room\"]):\n",
    "        print(\"Congrats! You escaped the room!\")\n",
    "    else:\n",
    "        print(\"You are now in \" + room[\"name\"])\n",
    "        intended_action = input(\"What would you like to do? Type 'explore' or 'examine'?\").strip()\n",
    "        if intended_action == \"explore\":\n",
    "            explore_room(room)\n",
    "            play_room(room)\n",
    "        elif intended_action == \"examine\":\n",
    "            examine_item(input(\"What would you like to examine?\").strip())\n",
    "        else:\n",
    "            print(\"Not sure what you mean. Type 'explore' or 'examine'.\")\n",
    "            play_room(room)\n",
    "        linebreak()\n",
    "\n",
    "def explore_room(room):\n",
    "    \"\"\"\n",
    "    Explore a room. List all items belonging to this room.\n",
    "    \"\"\"\n",
    "    items = [i[\"name\"] for i in object_relations[room[\"name\"]]]\n",
    "    print(\"You explore the room. This is \" + room[\"name\"] + \". You find \" + \", \".join(items))\n",
    "\n",
    "def get_next_room_of_door(door, current_room):\n",
    "    \"\"\"\n",
    "    From object_relations, find the two rooms connected to the given door.\n",
    "    Return the room that is not the current_room.\n",
    "    \"\"\"\n",
    "    return [room for room in object_relations[door[\"name\"]] if room != current_room][0]\n",
    "           \n",
    "\n",
    "def examine_item(item_name):\n",
    "    \"\"\"\n",
    "    Examine an item which can be a door or furniture.\n",
    "    First make sure the intended item belongs to the current room.\n",
    "    Then check if the item is a door. Tell player if key hasn't been\n",
    "    collected yet. Otherwise ask player if they want to go to the next\n",
    "    room. If the item is not a door, then check if it contains keys.\n",
    "    Collect the key if found and update the game state. At the end,\n",
    "    play either the current or the next room depending on the game state\n",
    "    to keep playing.\n",
    "    \"\"\"\n",
    "    current_room = game_state[\"current_room\"]\n",
    "    next_room = \"\"\n",
    "    output = None\n",
    "\n",
    "    for item in object_relations[current_room[\"name\"]]:\n",
    "        if(item[\"name\"] == item_name):\n",
    "            output = \"You examine \" + item_name + \". \"\n",
    "            if(item[\"type\"] == \"door\"):\n",
    "                have_key = False\n",
    "                for key in game_state[\"keys_collected\"]:\n",
    "                    if(key[\"target\"] == item):\n",
    "                        have_key = True\n",
    "                if(have_key):\n",
    "                    output += \"You unlock it with a key you have.\"\n",
    "                    next_room = get_next_room_of_door(item, current_room)\n",
    "                else:\n",
    "                    output += \"It is locked but you don't have the key.\"\n",
    "            else:\n",
    "                if(item[\"name\"] in object_relations and len(object_relations[item[\"name\"]])>0):\n",
    "                    item_found = object_relations[item[\"name\"]].pop()\n",
    "                    game_state[\"keys_collected\"].append(item_found)\n",
    "                    output += \"You find \" + item_found[\"name\"] + \".\"\n",
    "                else:\n",
    "                    output += \"There isn't anything interesting about it.\"\n",
    "            print(output)\n",
    "            break\n",
    "\n",
    "    if(output is None):\n",
    "        print(\"The item you requested is not found in the current room.\")\n",
    "\n",
    "    if(next_room and input(\"Do you want to go to the next room? Ener 'yes' or 'no'\").strip() == 'yes'):\n",
    "        play_room(next_room)\n",
    "    else:\n",
    "        play_room(current_room)\n",
    "    \n",
    "game_state = INIT_GAME_STATE.copy()\n",
    "\n",
    "start_game()"
   ]
  },
  {
   "cell_type": "code",
   "execution_count": null,
   "metadata": {},
   "outputs": [],
   "source": []
  }
 ],
 "metadata": {
  "kernelspec": {
   "display_name": "Python 3 (ipykernel)",
   "language": "python",
   "name": "python3"
  },
  "language_info": {
   "codemirror_mode": {
    "name": "ipython",
    "version": 3
   },
   "file_extension": ".py",
   "mimetype": "text/x-python",
   "name": "python",
   "nbconvert_exporter": "python",
   "pygments_lexer": "ipython3",
   "version": "3.12.4"
  }
 },
 "nbformat": 4,
 "nbformat_minor": 4
}
